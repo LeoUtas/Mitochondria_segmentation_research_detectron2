{
 "cells": [
  {
   "cell_type": "code",
   "execution_count": 1,
   "metadata": {},
   "outputs": [],
   "source": [
    "import sys, os\n",
    "sys.path.append('../')  # add parent directory to the system path\n",
    "from utils_data import *\n",
    "from utils_model import *\n",
    "from utils_model_inference import *\n",
    "\n",
    "import os\n",
    "import cv2\n",
    "from detectron2.config import get_cfg\n",
    "from detectron2.utils.logger import setup_logger\n",
    "from detectron2.utils.visualizer import Visualizer\n",
    "from detectron2.data.datasets import register_coco_instances\n",
    "from detectron2.engine import DefaultTrainer, DefaultPredictor\n",
    "from detectron2.evaluation import COCOEvaluator, inference_on_dataset\n",
    "from detectron2.data import MetadataCatalog, DatasetCatalog, build_detection_test_loader\n",
    "\n",
    "parent_path = \"Research\""
   ]
  },
  {
   "cell_type": "code",
   "execution_count": 2,
   "metadata": {},
   "outputs": [],
   "source": [
    "# ________________ MAKE TRAIN DATA READY FOR TRAINING ________________ #\n",
    "train_path, _, test_path = make_data_path(parent_path)\n",
    "\n",
    "path_to_train_JSON = os.path.join(train_path, \"train_images\", \"train.json\")\n",
    "path_to_train_images = os.path.join(train_path, \"train_images\")\n",
    "register_coco_instances(\"train\", {}, path_to_train_JSON, path_to_train_images)\n",
    "train_metadata = MetadataCatalog.get(\"train\")\n",
    "train_dataset_dicts = DatasetCatalog.get(\"train\")\n",
    "\n",
    "path_to_test_JSON = os.path.join(test_path, \"test_images\", \"test.json\")\n",
    "path_to_test_images = os.path.join(test_path, \"test_images\")\n",
    "register_coco_instances(\"test\", {}, path_to_test_JSON, path_to_test_images)\n",
    "test_metadata = MetadataCatalog.get(\"test\")\n",
    "test_dataset_dicts = DatasetCatalog.get(\"test\")\n",
    "\n",
    "\n",
    "# ****** --------- ****** #\n",
    "test_name = \"test6\"\n",
    "note = \"using high-contrast images\"\n",
    "# ****** --------- ****** #\n",
    "\n",
    "\n",
    "model = \"COCO-InstanceSegmentation/mask_rcnn_R_50_FPN_1x.yaml\"\n",
    "# model = \"COCO-InstanceSegmentation/mask_rcnn_R_101_FPN_3x.yaml\"\n",
    "# model = \"COCO-InstanceSegmentation/mask_rcnn_X_101_32x8d_FPN_3x.yaml\"\n",
    "\n",
    "\n",
    "cfg = get_cfg()\n",
    "cfg.OUTPUT_DIR = \"../models/test19/\"\n",
    "cfg.merge_from_file(model_zoo.get_config_file(model))\n",
    "cfg.DATASETS.TRAIN = (\"train\",)\n",
    "cfg.DATASETS.TEST = ()\n",
    "cfg.DATALOADER.NUM_WORKERS = 2\n",
    "cfg.MODEL.WEIGHTS = \"\"\n",
    "cfg.SOLVER.IMS_PER_BATCH = 2  # This is the real \"batch size\" commonly known to deep learning people\n",
    "cfg.SOLVER.BASE_LR = 0.00025  # pick a good LR\n",
    "cfg.SOLVER.MAX_ITER = 5000    # 1000 iterations seems good enough for this dataset\n",
    "cfg.SOLVER.STEPS = [1000, 2000, 3000]        # do not decay learning rate\n",
    "cfg.MODEL.ROI_HEADS.BATCH_SIZE_PER_IMAGE = 128   # Default is 512, using 256 for this dataset.\n",
    "cfg.MODEL.ROI_HEADS.NUM_CLASSES = 1  # We have 4 classes.\n",
    "# NOTE: this config means the number of classes, without the background. Do not use num_classes+1 here.\n",
    "\n",
    "os.makedirs(cfg.OUTPUT_DIR, exist_ok=True)\n",
    "trainer = DefaultTrainer(cfg) #Create an instance of of DefaultTrainer with the given congiguration\n",
    "trainer.resume_or_load(resume=False) #Load a pretrained model if available (resume training) or start training from scratch if no pretrained model is available"
   ]
  },
  {
   "cell_type": "code",
   "execution_count": 3,
   "metadata": {},
   "outputs": [
    {
     "name": "stderr",
     "output_type": "stream",
     "text": [
      "2023-10-29 01:32:31.950530: I tensorflow/core/platform/cpu_feature_guard.cc:182] This TensorFlow binary is optimized to use available CPU instructions in performance-critical operations.\n",
      "To enable the following instructions: AVX2 FMA, in other operations, rebuild TensorFlow with the appropriate compiler flags.\n",
      "2023-10-29 01:32:33.377684: W tensorflow/compiler/tf2tensorrt/utils/py_utils.cc:38] TF-TRT Warning: Could not find TensorRT\n"
     ]
    }
   ],
   "source": [
    "trainer.train() #Start the training process"
   ]
  }
 ],
 "metadata": {
  "kernelspec": {
   "display_name": "base",
   "language": "python",
   "name": "python3"
  },
  "language_info": {
   "codemirror_mode": {
    "name": "ipython",
    "version": 3
   },
   "file_extension": ".py",
   "mimetype": "text/x-python",
   "name": "python",
   "nbconvert_exporter": "python",
   "pygments_lexer": "ipython3",
   "version": "3.11.4"
  }
 },
 "nbformat": 4,
 "nbformat_minor": 2
}
